{
 "cells": [
  {
   "cell_type": "code",
   "execution_count": 4,
   "id": "368fa683-fbf9-4ac3-a0b2-11999c606568",
   "metadata": {},
   "outputs": [],
   "source": [
    "# 1. Declare two variables, x and y, and assign them integer values.\n",
    "# Swap the values of these variables without using any temporary variable."
   ]
  },
  {
   "cell_type": "code",
   "execution_count": 1,
   "id": "c43f7906-83ac-4cf8-aaea-a5f7ce192d48",
   "metadata": {},
   "outputs": [
    {
     "name": "stdout",
     "output_type": "stream",
     "text": [
      "after swapping :\n",
      "x: 72\n",
      "y: 64\n"
     ]
    }
   ],
   "source": [
    "x=64\n",
    "y=72\n",
    "x=x+y  #store the value of x as the sum of x and y\n",
    "y=x-y #store the value of y as the difference of x w.r.t. y so that y become x \n",
    "x=x-y # here we use the basic math as x+y-(x)= y\n",
    "print (\"after swapping :\")\n",
    "print (\"x:\",x)\n",
    "print (\"y:\",y)"
   ]
  },
  {
   "cell_type": "code",
   "execution_count": 3,
   "id": "23e8fd52-8fc1-4f01-98c6-33d6de5912f3",
   "metadata": {},
   "outputs": [],
   "source": [
    "# 2.  Create a program that calculates the area of a rectangle. Take the\n",
    "# length and width as inputs from the user and store them in variables. Calculate and display the area."
   ]
  },
  {
   "cell_type": "code",
   "execution_count": 2,
   "id": "5077c588-9349-4b3d-8821-e95ecf59c253",
   "metadata": {},
   "outputs": [
    {
     "name": "stdin",
     "output_type": "stream",
     "text": [
      "Length of rectangle: 25\n",
      "width of rectangle: 25\n"
     ]
    },
    {
     "name": "stdout",
     "output_type": "stream",
     "text": [
      "Area of rectangle: 625.0 unit sq.\n"
     ]
    }
   ],
   "source": [
    "l=float(input (\"Length of rectangle:\")) #put down the length of rec.\n",
    "w=float(input (\"width of rectangle:\")) #put down the width of rec.\n",
    "Area=l*w #using the formula of area of rectangle\n",
    "print (\"Area of rectangle:\",Area, \"unit sq.\")"
   ]
  },
  {
   "cell_type": "code",
   "execution_count": 5,
   "id": "12209245-19ff-4c3c-9016-21abc9b40a1e",
   "metadata": {},
   "outputs": [],
   "source": [
    "# 3. Write a Python program that converts temperature from Celsius to\n",
    "# Fahrenheit. Take the temperature in Celsius as input, store it in a variable, convert it to Fahrenheit, and display the result."
   ]
  },
  {
   "cell_type": "code",
   "execution_count": 3,
   "id": "1d0b8e78-a5a6-40ee-90ed-fbb8b2f08d8a",
   "metadata": {},
   "outputs": [
    {
     "name": "stdin",
     "output_type": "stream",
     "text": [
      "Enter the value of Temerature in Celcius: 52\n"
     ]
    },
    {
     "name": "stdout",
     "output_type": "stream",
     "text": [
      "Temperature in Fahrenheit {125.6} °F\n"
     ]
    }
   ],
   "source": [
    "cel=float(input(\"Enter the value of Temerature in Celcius:\"))\n",
    "fahr={(cel*9/5)+32} # using the formula of degree C to degree F conversion\n",
    "print (\"Temperature in Fahrenheit\",fahr,\"°F\")"
   ]
  },
  {
   "cell_type": "code",
   "execution_count": null,
   "id": "c4516817-b872-4b03-a712-a23961cb8948",
   "metadata": {},
   "outputs": [],
   "source": [
    "# Q4. Write a Python program that takes a string as input and prints the\n",
    "# length of the string.\n"
   ]
  },
  {
   "cell_type": "code",
   "execution_count": 5,
   "id": "011757df-e959-4a6d-98ed-039174b06cb4",
   "metadata": {},
   "outputs": [
    {
     "name": "stdin",
     "output_type": "stream",
     "text": [
      "Enter the string:- 52\n"
     ]
    },
    {
     "name": "stdout",
     "output_type": "stream",
     "text": [
      "The length of the string is:- 2\n"
     ]
    }
   ],
   "source": [
    "st=input(\"Enter the string:-\")\n",
    "length=len(st)\n",
    "\n",
    "print(\"The length of the string is:-\",length)"
   ]
  },
  {
   "cell_type": "code",
   "execution_count": null,
   "id": "4198b29f-b0e5-4253-9cae-0b0c8f922d28",
   "metadata": {},
   "outputs": [],
   "source": [
    "# Q5.Create a program that takes a sentence from the user and counts the\n",
    "# number of vowels (a, e, i, o, u) in the string.\n",
    "\n"
   ]
  },
  {
   "cell_type": "code",
   "execution_count": 6,
   "id": "91a691bb-fe60-4e27-a1e5-029c0df579fa",
   "metadata": {},
   "outputs": [
    {
     "name": "stdin",
     "output_type": "stream",
     "text": [
      "Enter a sentence:  harshtyagi\n"
     ]
    },
    {
     "name": "stdout",
     "output_type": "stream",
     "text": [
      "Number of vowels: 3\n"
     ]
    }
   ],
   "source": [
    "def vowel_counter(sentence):    # first we created a function name vowel counter\n",
    "    vowels = \"aeiouAEIOU\"       # then the string of vowels in lowercase and uppercase is assigned in a variable\n",
    "    counter = 0\n",
    "    \n",
    "    for char in sentence:        # iterating a loop for a character in a sentence\n",
    "        if char in vowels:       # then giving the condition if the character is vowel or not\n",
    "            counter += 1         # if the char in the sentence is vowel then increase counter by 1\n",
    "    \n",
    "    return counter\n",
    "\n",
    "user_input = input(\"Enter a sentence: \")   # then taking the input of the string from the user\n",
    "result = vowel_counter(user_input)          # passing the user input in the function vowel counter\n",
    "print(\"Number of vowels:\", result)           # and finally we get the count of the vowels in the sentence"
   ]
  },
  {
   "cell_type": "code",
   "execution_count": null,
   "id": "c1541685-6350-43a3-9034-247f3c05528e",
   "metadata": {},
   "outputs": [],
   "source": [
    "# Q6.Given a string, reverse the order of characters using string slicing and\n",
    "# print the reversed string."
   ]
  },
  {
   "cell_type": "code",
   "execution_count": 7,
   "id": "5544ac78-fd93-41af-bf08-c968ddf10813",
   "metadata": {},
   "outputs": [
    {
     "name": "stdin",
     "output_type": "stream",
     "text": [
      "Enter the string:- tyagi\n"
     ]
    },
    {
     "name": "stdout",
     "output_type": "stream",
     "text": [
      "the reverse of the given string is:-  igayt\n"
     ]
    }
   ],
   "source": [
    "st=input(\"Enter the string:-\")\n",
    "\n",
    "reverse=st[::-1]\n",
    "\n",
    "print(\"the reverse of the given string is:- \",reverse)"
   ]
  },
  {
   "cell_type": "code",
   "execution_count": 15,
   "id": "0e66ea11-844a-475d-86b9-cd189b793e6a",
   "metadata": {},
   "outputs": [],
   "source": [
    "# Q7.Write a program that takes a string as input and checks if it is a\n",
    "# palindrome (reads the same forwards and backwards)."
   ]
  },
  {
   "cell_type": "code",
   "execution_count": 8,
   "id": "5735b9da-4282-4017-8c50-2cac83d01307",
   "metadata": {},
   "outputs": [
    {
     "name": "stdin",
     "output_type": "stream",
     "text": [
      "Enter a string:  heeeeelo\n"
     ]
    },
    {
     "name": "stdout",
     "output_type": "stream",
     "text": [
      "Sorry! it is not a palindrome string\n"
     ]
    }
   ],
   "source": [
    "def palindrome_str(input_string):          # creating the function name palindrome_str\n",
    "    reversed_string = input_string[::-1]   # reversing the string using the slicing method\n",
    "    return input_string == reversed_string    # it means the input string is equals to reversed string\n",
    "\n",
    "user_input = input(\"Enter a string: \")     # taking input from user\n",
    "if palindrome_str(user_input):              # the input string==reverse of input string then the string is palindrome\n",
    "    print(\"It is a palindrome string!\")\n",
    "else:\n",
    "    print(\"Sorry! it is not a palindrome string\")        # if not equals then the string is not palindrome\n",
    "    \n",
    "\n",
    "\n",
    "#palindrome string means the given string is equals to reverse of same string"
   ]
  },
  {
   "cell_type": "code",
   "execution_count": 19,
   "id": "fcaceaf0-8982-4f96-a375-9c1de2d5d97c",
   "metadata": {},
   "outputs": [],
   "source": [
    "# Q8.Create a program that takes a string as input and removes all the\n",
    "# spaces from it. Print the modified string without spaces.\n"
   ]
  },
  {
   "cell_type": "code",
   "execution_count": 11,
   "id": "030650c0-adf0-409d-a3cd-c6304eec535d",
   "metadata": {},
   "outputs": [
    {
     "name": "stdin",
     "output_type": "stream",
     "text": [
      "Enter any string:- ff ff  f f f\n"
     ]
    },
    {
     "name": "stdout",
     "output_type": "stream",
     "text": [
      "modified string:-  fffffff\n"
     ]
    }
   ],
   "source": [
    "def space_remover(sentence):      # creating the function called space_remover\n",
    "    remove_space=sentence.replace(' ','')  # it will remove space from the sentence\n",
    "    return remove_space\n",
    "\n",
    "user_input=input(\"Enter any string:-\")   # taking user input\n",
    "result=space_remover(user_input)         \n",
    "print(\"modified string:- \",result)       # modifieed string"
   ]
  },
  {
   "cell_type": "code",
   "execution_count": null,
   "id": "7da05846-cbd3-4767-80c1-31e93b7343b3",
   "metadata": {},
   "outputs": [],
   "source": []
  }
 ],
 "metadata": {
  "kernelspec": {
   "display_name": "Python 3 (ipykernel)",
   "language": "python",
   "name": "python3"
  },
  "language_info": {
   "codemirror_mode": {
    "name": "ipython",
    "version": 3
   },
   "file_extension": ".py",
   "mimetype": "text/x-python",
   "name": "python",
   "nbconvert_exporter": "python",
   "pygments_lexer": "ipython3",
   "version": "3.10.8"
  }
 },
 "nbformat": 4,
 "nbformat_minor": 5
}
